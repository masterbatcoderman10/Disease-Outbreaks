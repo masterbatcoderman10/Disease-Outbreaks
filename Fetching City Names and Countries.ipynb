{
 "cells": [
  {
   "cell_type": "code",
   "execution_count": 1,
   "metadata": {},
   "outputs": [],
   "source": [
    "import pandas as pd\n",
    "import re\n",
    "from geonamescache import GeonamesCache\n",
    "import unidecode\n",
    "import numpy as np"
   ]
  },
  {
   "cell_type": "code",
   "execution_count": 2,
   "metadata": {},
   "outputs": [],
   "source": [
    "gc = GeonamesCache()"
   ]
  },
  {
   "cell_type": "markdown",
   "metadata": {},
   "source": [
    "### Getting the headlines into a list"
   ]
  },
  {
   "cell_type": "code",
   "execution_count": 3,
   "metadata": {},
   "outputs": [],
   "source": [
    "headlines_list = []\n",
    "with open(\"headlines.txt\", \"r+\") as f:\n",
    "    for line in f:\n",
    "        pattern_n = r\"[^\\n]+\"\n",
    "        search = re.search(pattern_n, line)\n",
    "        headlines_list.append(search.group())"
   ]
  },
  {
   "cell_type": "markdown",
   "metadata": {},
   "source": [
    "### Extracting Cities Case one\n",
    "\n",
    "A common pattern in the heaslines is that a city or place name is followed by the word 'in', the following code extracts such places."
   ]
  },
  {
   "cell_type": "code",
   "execution_count": 4,
   "metadata": {},
   "outputs": [],
   "source": [
    "pattern = re.compile(r'([\\w]+)(\\b in \\b)([\\w|St.]+)(\\s*)([\\w]*)')"
   ]
  },
  {
   "cell_type": "code",
   "execution_count": 5,
   "metadata": {},
   "outputs": [],
   "source": [
    "preliminary_cities = []\n",
    "preliminary_headlines = []\n",
    "for headline in headlines_list:\n",
    "    p_search = re.search(pattern, headline)\n",
    "    if (p_search is not None):\n",
    "        preliminary_cities.append(p_search.group().split(' in ')[-1])\n",
    "        preliminary_headlines.append(headline)"
   ]
  },
  {
   "cell_type": "code",
   "execution_count": 6,
   "metadata": {},
   "outputs": [],
   "source": [
    "preliminary_cities = np.array(preliminary_cities)\n",
    "preliminary_cities = np.where(preliminary_cities == 'Atlanta is', 'Atlanta', preliminary_cities)\n",
    "preliminary_cities = preliminary_cities.tolist()"
   ]
  },
  {
   "cell_type": "code",
   "execution_count": 7,
   "metadata": {},
   "outputs": [
    {
     "data": {
      "text/plain": [
       "410"
      ]
     },
     "execution_count": 7,
     "metadata": {},
     "output_type": "execute_result"
    }
   ],
   "source": [
    "len(preliminary_cities)"
   ]
  },
  {
   "cell_type": "code",
   "execution_count": 8,
   "metadata": {},
   "outputs": [
    {
     "data": {
      "text/plain": [
       "410"
      ]
     },
     "execution_count": 8,
     "metadata": {},
     "output_type": "execute_result"
    }
   ],
   "source": [
    "len(preliminary_headlines)"
   ]
  },
  {
   "cell_type": "code",
   "execution_count": 9,
   "metadata": {},
   "outputs": [
    {
     "data": {
      "text/plain": [
       "650"
      ]
     },
     "execution_count": 9,
     "metadata": {},
     "output_type": "execute_result"
    }
   ],
   "source": [
    "len(headlines_list)"
   ]
  },
  {
   "cell_type": "markdown",
   "metadata": {},
   "source": [
    "#### Cleaning up the cities from the intial search"
   ]
  },
  {
   "cell_type": "code",
   "execution_count": 10,
   "metadata": {},
   "outputs": [],
   "source": [
    "cleaned_cities_one = []\n",
    "for city in preliminary_cities:\n",
    "    pattern = r'\\b[A-Z]\\w*\\b'\n",
    "    search = re.findall(pattern, city)\n",
    "    cleaned_cities_one.append(' '.join(search))\n",
    "    "
   ]
  },
  {
   "cell_type": "markdown",
   "metadata": {},
   "source": [
    "### Extracting Cities : Case Two\n",
    "\n",
    "For the headlines that don't contain the pattern mentioned above, it can be noted that they are either the first or the last word, this next search will be using geonamescache to find such cities."
   ]
  },
  {
   "cell_type": "code",
   "execution_count": 11,
   "metadata": {},
   "outputs": [],
   "source": [
    "headlines_without_in = []\n",
    "\n",
    "for headline in headlines_list:\n",
    "    if ' in ' not in headline:\n",
    "        headlines_without_in.append(headline)\n",
    "\n"
   ]
  },
  {
   "cell_type": "code",
   "execution_count": 12,
   "metadata": {},
   "outputs": [],
   "source": [
    "pattern = r'[^\\bin\\b]'\n"
   ]
  },
  {
   "cell_type": "code",
   "execution_count": 13,
   "metadata": {},
   "outputs": [],
   "source": [
    "string = \"I am in trouble\""
   ]
  },
  {
   "cell_type": "code",
   "execution_count": 14,
   "metadata": {},
   "outputs": [
    {
     "data": {
      "text/plain": [
       "<re.Match object; span=(0, 1), match='I'>"
      ]
     },
     "execution_count": 14,
     "metadata": {},
     "output_type": "execute_result"
    }
   ],
   "source": [
    "re.search(pattern, string)"
   ]
  },
  {
   "cell_type": "code",
   "execution_count": 15,
   "metadata": {},
   "outputs": [
    {
     "data": {
      "text/plain": [
       "240"
      ]
     },
     "execution_count": 15,
     "metadata": {},
     "output_type": "execute_result"
    }
   ],
   "source": [
    "len(headlines_without_in)"
   ]
  },
  {
   "cell_type": "code",
   "execution_count": 16,
   "metadata": {},
   "outputs": [],
   "source": [
    "first_word_cities = []\n",
    "good_headlines = []\n",
    "for headline in headlines_without_in:\n",
    "    if headline == 'San Juan reports 1st U.S. Zika-related death amid outbreak':\n",
    "        continue\n",
    "    f = headline.split(\" \")[0]\n",
    "    cf = re.search(r'[\\w]+', f).group()\n",
    "    if gc.get_cities_by_name(cf):\n",
    "        first_word_cities.append(cf)\n",
    "        good_headlines.append(headline)"
   ]
  },
  {
   "cell_type": "code",
   "execution_count": 17,
   "metadata": {},
   "outputs": [],
   "source": [
    "chi = \"Chicago's\""
   ]
  },
  {
   "cell_type": "code",
   "execution_count": 18,
   "metadata": {},
   "outputs": [],
   "source": [
    "pattern = r'[\\w]+'"
   ]
  },
  {
   "cell_type": "code",
   "execution_count": 19,
   "metadata": {},
   "outputs": [
    {
     "data": {
      "text/plain": [
       "'Chicago'"
      ]
     },
     "execution_count": 19,
     "metadata": {},
     "output_type": "execute_result"
    }
   ],
   "source": [
    "re.search(pattern, chi).group()"
   ]
  },
  {
   "cell_type": "code",
   "execution_count": 20,
   "metadata": {},
   "outputs": [
    {
     "data": {
      "text/plain": [
       "94"
      ]
     },
     "execution_count": 20,
     "metadata": {},
     "output_type": "execute_result"
    }
   ],
   "source": [
    "len(first_word_cities)"
   ]
  },
  {
   "cell_type": "code",
   "execution_count": 21,
   "metadata": {},
   "outputs": [],
   "source": [
    "last_word_cities = []\n",
    "good_headlines_2 = []\n",
    "for headline in headlines_without_in:\n",
    "    f = re.findall(r'[^\\W]+', headline)[-1]\n",
    "    \n",
    "    \n",
    "    if gc.get_cities_by_name(f):\n",
    "        last_word_cities.append(f)\n",
    "        good_headlines_2.append(headline)"
   ]
  },
  {
   "cell_type": "code",
   "execution_count": 22,
   "metadata": {},
   "outputs": [],
   "source": [
    "good_headlines += good_headlines_2"
   ]
  },
  {
   "cell_type": "code",
   "execution_count": 23,
   "metadata": {},
   "outputs": [
    {
     "data": {
      "text/plain": [
       "161"
      ]
     },
     "execution_count": 23,
     "metadata": {},
     "output_type": "execute_result"
    }
   ],
   "source": [
    "len(good_headlines)"
   ]
  },
  {
   "cell_type": "code",
   "execution_count": 24,
   "metadata": {},
   "outputs": [
    {
     "data": {
      "text/plain": [
       "67"
      ]
     },
     "execution_count": 24,
     "metadata": {},
     "output_type": "execute_result"
    }
   ],
   "source": [
    "len(good_headlines_2)"
   ]
  },
  {
   "cell_type": "code",
   "execution_count": 25,
   "metadata": {},
   "outputs": [],
   "source": [
    "cities_second_case = first_word_cities + last_word_cities"
   ]
  },
  {
   "cell_type": "code",
   "execution_count": 26,
   "metadata": {},
   "outputs": [],
   "source": [
    "cities_second_case = np.array(cities_second_case)\n",
    "cities_second_case = np.where(cities_second_case == 'Orleans', 'New Orleans', cities_second_case)\n",
    "cities_second_case = np.where(cities_second_case == 'Kingston', 'New Kingston', cities_second_case)\n",
    "cities_second_case = np.where(cities_second_case == 'Bethesda', 'Norht Bethesda', cities_second_case)\n",
    "cities_second_case = np.where(cities_second_case == 'San', 'San Juan', cities_second_case)\n",
    "cities_second_case = cities_second_case.tolist()"
   ]
  },
  {
   "cell_type": "code",
   "execution_count": 27,
   "metadata": {},
   "outputs": [
    {
     "ename": "ValueError",
     "evalue": "list.remove(x): x not in list",
     "output_type": "error",
     "traceback": [
      "\u001b[0;31m---------------------------------------------------------------------------\u001b[0m",
      "\u001b[0;31mValueError\u001b[0m                                Traceback (most recent call last)",
      "\u001b[0;32m<ipython-input-27-41bbc31c97d1>\u001b[0m in \u001b[0;36m<module>\u001b[0;34m\u001b[0m\n\u001b[0;32m----> 1\u001b[0;31m \u001b[0mcities_second_case\u001b[0m\u001b[0;34m.\u001b[0m\u001b[0mremove\u001b[0m\u001b[0;34m(\u001b[0m\u001b[0;34m'San'\u001b[0m\u001b[0;34m)\u001b[0m\u001b[0;34m\u001b[0m\u001b[0;34m\u001b[0m\u001b[0m\n\u001b[0m\u001b[1;32m      2\u001b[0m \u001b[0mcities_second_case\u001b[0m\u001b[0;34m.\u001b[0m\u001b[0mappend\u001b[0m\u001b[0;34m(\u001b[0m\u001b[0;34m'San Jaun'\u001b[0m\u001b[0;34m)\u001b[0m\u001b[0;34m\u001b[0m\u001b[0;34m\u001b[0m\u001b[0m\n",
      "\u001b[0;31mValueError\u001b[0m: list.remove(x): x not in list"
     ]
    }
   ],
   "source": []
  },
  {
   "cell_type": "code",
   "execution_count": 28,
   "metadata": {},
   "outputs": [
    {
     "data": {
      "text/plain": [
       "161"
      ]
     },
     "execution_count": 28,
     "metadata": {},
     "output_type": "execute_result"
    }
   ],
   "source": [
    "len(cities_second_case)"
   ]
  },
  {
   "cell_type": "code",
   "execution_count": 29,
   "metadata": {},
   "outputs": [],
   "source": [
    "test_dict ={'Headline': good_headlines, 'City': cities_second_case}\n",
    "test_df = pd.DataFrame.from_dict(test_dict)\n",
    "test_df.to_csv('test.csv')"
   ]
  },
  {
   "cell_type": "markdown",
   "metadata": {},
   "source": [
    "That concludes the extraction of cities which were either first words of the headlines, or the last word."
   ]
  },
  {
   "cell_type": "markdown",
   "metadata": {},
   "source": [
    "### Extracting Cities : Case 3\n",
    "\n",
    "The city names that have not been extracted so far are the ones that contain spaces between them, and their headline didn't have the pattern of 'in'. Such headlines will be used for city extraction"
   ]
  },
  {
   "cell_type": "code",
   "execution_count": 30,
   "metadata": {},
   "outputs": [],
   "source": [
    "from unidecode import unidecode"
   ]
  },
  {
   "cell_type": "code",
   "execution_count": 31,
   "metadata": {},
   "outputs": [],
   "source": [
    "headlines_case_three = [unidecode(item) for item in headlines_without_in if item not in good_headlines]"
   ]
  },
  {
   "cell_type": "code",
   "execution_count": 32,
   "metadata": {},
   "outputs": [
    {
     "data": {
      "text/plain": [
       "79"
      ]
     },
     "execution_count": 32,
     "metadata": {},
     "output_type": "execute_result"
    }
   ],
   "source": [
    "len(headlines_case_three)"
   ]
  },
  {
   "cell_type": "markdown",
   "metadata": {},
   "source": [
    "#### Headlines which won't yeild results\n",
    "\n",
    "The following manual extraction was done since these cities don't meat any pattern."
   ]
  },
  {
   "cell_type": "code",
   "execution_count": 33,
   "metadata": {},
   "outputs": [],
   "source": [
    "cities_with_spaces = [city['name'] for city in gc.get_cities().values() if ' ' in city['name']]"
   ]
  },
  {
   "cell_type": "code",
   "execution_count": 34,
   "metadata": {},
   "outputs": [
    {
     "data": {
      "text/plain": [
       "5225"
      ]
     },
     "execution_count": 34,
     "metadata": {},
     "output_type": "execute_result"
    }
   ],
   "source": [
    "len(cities_with_spaces)"
   ]
  },
  {
   "cell_type": "code",
   "execution_count": 35,
   "metadata": {},
   "outputs": [
    {
     "data": {
      "text/plain": [
       "5225"
      ]
     },
     "execution_count": 35,
     "metadata": {},
     "output_type": "execute_result"
    }
   ],
   "source": [
    "len(cities_with_spaces)"
   ]
  },
  {
   "cell_type": "code",
   "execution_count": 36,
   "metadata": {},
   "outputs": [],
   "source": [
    "big_p = ''\n",
    "for city in cities_with_spaces:\n",
    "    big_p = big_p + unidecode(city)\n",
    "    big_p = big_p + '|'\n"
   ]
  },
  {
   "cell_type": "code",
   "execution_count": 37,
   "metadata": {},
   "outputs": [
    {
     "data": {
      "text/plain": [
       "<re.Match object; span=(16, 30), match='Kamphaeng Phet'>"
      ]
     },
     "execution_count": 37,
     "metadata": {},
     "output_type": "execute_result"
    }
   ],
   "source": [
    "re.search(big_p[:-1], 'Zika spreads to Kamphaeng Phet')"
   ]
  },
  {
   "cell_type": "code",
   "execution_count": 38,
   "metadata": {},
   "outputs": [],
   "source": [
    "cities_case_three = []\n",
    "good_headlines_3 = []\n",
    "for headline in headlines_case_three:\n",
    "    search = re.search(big_p[:-1], headline)\n",
    "    if search is not None:\n",
    "        cities_case_three.append(search.group())\n",
    "        good_headlines_3.append(headline)"
   ]
  },
  {
   "cell_type": "code",
   "execution_count": 39,
   "metadata": {},
   "outputs": [
    {
     "data": {
      "text/plain": [
       "44"
      ]
     },
     "execution_count": 39,
     "metadata": {},
     "output_type": "execute_result"
    }
   ],
   "source": [
    "len(cities_case_three)"
   ]
  },
  {
   "cell_type": "code",
   "execution_count": 40,
   "metadata": {},
   "outputs": [],
   "source": [
    "left_out_headlines = [item for item in headlines_case_three if item not in good_headlines_3]"
   ]
  },
  {
   "cell_type": "code",
   "execution_count": 41,
   "metadata": {},
   "outputs": [
    {
     "data": {
      "text/plain": [
       "35"
      ]
     },
     "execution_count": 41,
     "metadata": {},
     "output_type": "execute_result"
    }
   ],
   "source": [
    "len(left_out_headlines)"
   ]
  },
  {
   "cell_type": "code",
   "execution_count": 42,
   "metadata": {},
   "outputs": [],
   "source": [
    "left_out = ['Geneva', 'Manila', 'New Orleans', 'New Delhi', 'Cucuta', 'Mecca', 'Columbus', 'Cancun', 'Cancun', 'Charlotte', 'Archus', 'Niteroi', 'Lafayette', 'Windsor', 'Valdosta', 'Jefferson City', 'None', 'Greenwich', 'Parsons', 'Yulee', 'Jefferson City', 'Brighton', 'Las Casas', 'Denver', 'Martinsville', 'Bonn', 'Zambaonga', 'Zanzibar', 'Fairfax County', 'Seminole', 'New York City', 'Kedougou', 'Davos', 'Pismo Beach', 'La Joya']"
   ]
  },
  {
   "cell_type": "code",
   "execution_count": 43,
   "metadata": {},
   "outputs": [
    {
     "data": {
      "text/plain": [
       "35"
      ]
     },
     "execution_count": 43,
     "metadata": {},
     "output_type": "execute_result"
    }
   ],
   "source": [
    "len(left_out)"
   ]
  },
  {
   "cell_type": "markdown",
   "metadata": {},
   "source": [
    "## Creating the Dataframe"
   ]
  },
  {
   "cell_type": "code",
   "execution_count": 44,
   "metadata": {},
   "outputs": [],
   "source": [
    "final_headlines = preliminary_headlines + good_headlines + good_headlines_3 + left_out_headlines"
   ]
  },
  {
   "cell_type": "code",
   "execution_count": 45,
   "metadata": {},
   "outputs": [
    {
     "data": {
      "text/plain": [
       "650"
      ]
     },
     "execution_count": 45,
     "metadata": {},
     "output_type": "execute_result"
    }
   ],
   "source": [
    "len(final_headlines)"
   ]
  },
  {
   "cell_type": "code",
   "execution_count": 46,
   "metadata": {},
   "outputs": [],
   "source": [
    "final_cities = cleaned_cities_one + cities_second_case + cities_case_three + left_out"
   ]
  },
  {
   "cell_type": "code",
   "execution_count": 47,
   "metadata": {},
   "outputs": [
    {
     "data": {
      "text/plain": [
       "650"
      ]
     },
     "execution_count": 47,
     "metadata": {},
     "output_type": "execute_result"
    }
   ],
   "source": [
    "len(final_cities)"
   ]
  },
  {
   "cell_type": "code",
   "execution_count": 48,
   "metadata": {},
   "outputs": [],
   "source": [
    "final_dict = {'Headline' : final_headlines, 'City': final_cities}\n",
    "\n",
    "outbreak_df = pd.DataFrame.from_dict(final_dict)"
   ]
  },
  {
   "cell_type": "code",
   "execution_count": 49,
   "metadata": {},
   "outputs": [
    {
     "data": {
      "text/html": [
       "<div>\n",
       "<style scoped>\n",
       "    .dataframe tbody tr th:only-of-type {\n",
       "        vertical-align: middle;\n",
       "    }\n",
       "\n",
       "    .dataframe tbody tr th {\n",
       "        vertical-align: top;\n",
       "    }\n",
       "\n",
       "    .dataframe thead th {\n",
       "        text-align: right;\n",
       "    }\n",
       "</style>\n",
       "<table border=\"1\" class=\"dataframe\">\n",
       "  <thead>\n",
       "    <tr style=\"text-align: right;\">\n",
       "      <th></th>\n",
       "      <th>Headline</th>\n",
       "      <th>City</th>\n",
       "    </tr>\n",
       "  </thead>\n",
       "  <tbody>\n",
       "    <tr>\n",
       "      <th>0</th>\n",
       "      <td>First Case of Zika in Miami Beach</td>\n",
       "      <td>Miami Beach</td>\n",
       "    </tr>\n",
       "    <tr>\n",
       "      <th>1</th>\n",
       "      <td>Mystery Virus Spreads in Recife, Brazil</td>\n",
       "      <td>Recife</td>\n",
       "    </tr>\n",
       "    <tr>\n",
       "      <th>2</th>\n",
       "      <td>Zika Concerns are Spreading in Houston</td>\n",
       "      <td>Houston</td>\n",
       "    </tr>\n",
       "    <tr>\n",
       "      <th>3</th>\n",
       "      <td>The CDC in Atlanta is Growing Worried</td>\n",
       "      <td>Atlanta</td>\n",
       "    </tr>\n",
       "    <tr>\n",
       "      <th>4</th>\n",
       "      <td>Zika Infested Monkeys in Sao Paulo</td>\n",
       "      <td>Sao Paulo</td>\n",
       "    </tr>\n",
       "    <tr>\n",
       "      <th>...</th>\n",
       "      <td>...</td>\n",
       "      <td>...</td>\n",
       "    </tr>\n",
       "    <tr>\n",
       "      <th>645</th>\n",
       "      <td>Stony Brook University experts discuss Zika virus</td>\n",
       "      <td>New York City</td>\n",
       "    </tr>\n",
       "    <tr>\n",
       "      <th>646</th>\n",
       "      <td>Kedougou tests new cure for Hepatitis C</td>\n",
       "      <td>Kedougou</td>\n",
       "    </tr>\n",
       "    <tr>\n",
       "      <th>647</th>\n",
       "      <td>Measles Hits Davos</td>\n",
       "      <td>Davos</td>\n",
       "    </tr>\n",
       "    <tr>\n",
       "      <th>648</th>\n",
       "      <td>Chikungunya has not Left Pismo Beach</td>\n",
       "      <td>Pismo Beach</td>\n",
       "    </tr>\n",
       "    <tr>\n",
       "      <th>649</th>\n",
       "      <td>Zika spreads to La Joya</td>\n",
       "      <td>La Joya</td>\n",
       "    </tr>\n",
       "  </tbody>\n",
       "</table>\n",
       "<p>650 rows × 2 columns</p>\n",
       "</div>"
      ],
      "text/plain": [
       "                                              Headline           City\n",
       "0                    First Case of Zika in Miami Beach    Miami Beach\n",
       "1              Mystery Virus Spreads in Recife, Brazil         Recife\n",
       "2               Zika Concerns are Spreading in Houston        Houston\n",
       "3                The CDC in Atlanta is Growing Worried        Atlanta\n",
       "4                   Zika Infested Monkeys in Sao Paulo      Sao Paulo\n",
       "..                                                 ...            ...\n",
       "645  Stony Brook University experts discuss Zika virus  New York City\n",
       "646            Kedougou tests new cure for Hepatitis C       Kedougou\n",
       "647                                 Measles Hits Davos          Davos\n",
       "648               Chikungunya has not Left Pismo Beach    Pismo Beach\n",
       "649                            Zika spreads to La Joya        La Joya\n",
       "\n",
       "[650 rows x 2 columns]"
      ]
     },
     "execution_count": 49,
     "metadata": {},
     "output_type": "execute_result"
    }
   ],
   "source": [
    "outbreak_df"
   ]
  },
  {
   "cell_type": "markdown",
   "metadata": {},
   "source": [
    "## Getting Country Names\n",
    "\n",
    "When extracting country names from the city name, there are three possibiliities:\n",
    "<ul>\n",
    "    <li>The city is found and is a single match.</li>\n",
    "    <li>The city is found but contains multiple matches.</li>\n",
    "    <li>The city is not found.\n",
    "</ul>\n",
    "\n",
    "A further possibility is that some cities have names with accents."
   ]
  },
  {
   "cell_type": "code",
   "execution_count": 50,
   "metadata": {},
   "outputs": [],
   "source": [
    "cities = list(outbreak_df['City'])"
   ]
  },
  {
   "cell_type": "code",
   "execution_count": 51,
   "metadata": {},
   "outputs": [],
   "source": [
    "all_countries = gc.get_countries()\n",
    "accented_names = [city['name'] for city in gc.get_cities().values() if city['name'] != unidecode(city['name'])]"
   ]
  },
  {
   "cell_type": "code",
   "execution_count": 52,
   "metadata": {},
   "outputs": [],
   "source": [
    "def singular_country(possible_cities, countries):\n",
    "    selected_city_dict = possible_cities[0]\n",
    "    iterator = iter(selected_city_dict.keys())\n",
    "    inner_dict = selected_city_dict[next(iterator)]\n",
    "    ca = inner_dict[\"countrycode\"]\n",
    "    return countries[ca]['name']"
   ]
  },
  {
   "cell_type": "code",
   "execution_count": 53,
   "metadata": {},
   "outputs": [],
   "source": [
    "def country_name(city_name, countries, accent_list):\n",
    "    possible_cities = gc.get_cities_by_name(city_name)\n",
    "    if len(possible_cities) == 1:\n",
    "        return singular_country(possible_cities, countries)\n",
    "    elif len(possible_cities) > 1:\n",
    "        return multiple_countries(possible_cities, countries)\n",
    "    else:\n",
    "        return accented_city(city_name, countries, accent_list)\n",
    "        \n",
    "        "
   ]
  },
  {
   "cell_type": "code",
   "execution_count": 54,
   "metadata": {},
   "outputs": [],
   "source": [
    "def multiple_countries(city_list, countries):\n",
    "    best_sf = max(city_list,\n",
    "              key=lambda x: list(x.values())[0]['population'])\n",
    "    iterator = iter(best_sf.keys())\n",
    "    inner_dict = best_sf[next(iterator)]\n",
    "    ca = inner_dict[\"countrycode\"]\n",
    "    return countries[ca]['name']"
   ]
  },
  {
   "cell_type": "code",
   "execution_count": 55,
   "metadata": {},
   "outputs": [],
   "source": [
    "def accented_city(city_name, countries, accented_cities):\n",
    "    for city in accented_cities:\n",
    "        if unidecode(city) == city_name:\n",
    "            \n",
    "            return country_name(city, countries, accented_cities)\n",
    "\n",
    "        else:\n",
    "            continue"
   ]
  },
  {
   "cell_type": "code",
   "execution_count": 56,
   "metadata": {},
   "outputs": [],
   "source": [
    "ny = gc.get_cities_by_name('Miami Beach')[0]"
   ]
  },
  {
   "cell_type": "code",
   "execution_count": 57,
   "metadata": {},
   "outputs": [
    {
     "name": "stdout",
     "output_type": "stream",
     "text": [
      "4164143\n"
     ]
    }
   ],
   "source": [
    "for key in ny.keys():\n",
    "    print(key)"
   ]
  },
  {
   "cell_type": "code",
   "execution_count": 58,
   "metadata": {},
   "outputs": [
    {
     "data": {
      "text/plain": [
       "'Brazil'"
      ]
     },
     "execution_count": 58,
     "metadata": {},
     "output_type": "execute_result"
    }
   ],
   "source": [
    "country_name('Sao Paulo', all_countries, accented_names)"
   ]
  },
  {
   "cell_type": "markdown",
   "metadata": {},
   "source": [
    "The list of found countries."
   ]
  },
  {
   "cell_type": "code",
   "execution_count": 59,
   "metadata": {},
   "outputs": [],
   "source": [
    "found_countries = [country_name(city, all_countries, accented_names) for city in cities]"
   ]
  },
  {
   "cell_type": "code",
   "execution_count": 60,
   "metadata": {},
   "outputs": [
    {
     "data": {
      "text/plain": [
       "650"
      ]
     },
     "execution_count": 60,
     "metadata": {},
     "output_type": "execute_result"
    }
   ],
   "source": [
    "len(found_countries)"
   ]
  },
  {
   "cell_type": "code",
   "execution_count": 61,
   "metadata": {},
   "outputs": [],
   "source": [
    "outbreak_df['Country'] = found_countries"
   ]
  },
  {
   "cell_type": "code",
   "execution_count": 62,
   "metadata": {},
   "outputs": [],
   "source": [
    "outbreak_df.to_csv('outbreak_cities.csv')"
   ]
  },
  {
   "cell_type": "code",
   "execution_count": 63,
   "metadata": {},
   "outputs": [],
   "source": [
    "list_of_nulls = len([item for item in found_countries if item is None])"
   ]
  },
  {
   "cell_type": "code",
   "execution_count": 64,
   "metadata": {},
   "outputs": [
    {
     "data": {
      "text/plain": [
       "73"
      ]
     },
     "execution_count": 64,
     "metadata": {},
     "output_type": "execute_result"
    }
   ],
   "source": [
    "list_of_nulls"
   ]
  },
  {
   "cell_type": "markdown",
   "metadata": {},
   "source": [
    "## Dealing with not found country names\n",
    "\n",
    "There are 73 cities which did not return a result from geonamescache, these will be filled in manually by searching on google and filling up on excel, the resulting csv will be the dataframe for submission."
   ]
  },
  {
   "cell_type": "code",
   "execution_count": 70,
   "metadata": {},
   "outputs": [],
   "source": [
    "final_df = pd.read_csv('outbreak_cities.csv', index_col=0)"
   ]
  },
  {
   "cell_type": "code",
   "execution_count": 72,
   "metadata": {},
   "outputs": [
    {
     "data": {
      "text/html": [
       "<div>\n",
       "<style scoped>\n",
       "    .dataframe tbody tr th:only-of-type {\n",
       "        vertical-align: middle;\n",
       "    }\n",
       "\n",
       "    .dataframe tbody tr th {\n",
       "        vertical-align: top;\n",
       "    }\n",
       "\n",
       "    .dataframe thead th {\n",
       "        text-align: right;\n",
       "    }\n",
       "</style>\n",
       "<table border=\"1\" class=\"dataframe\">\n",
       "  <thead>\n",
       "    <tr style=\"text-align: right;\">\n",
       "      <th></th>\n",
       "      <th>Headline</th>\n",
       "      <th>City</th>\n",
       "      <th>Country</th>\n",
       "    </tr>\n",
       "  </thead>\n",
       "  <tbody>\n",
       "    <tr>\n",
       "      <th>0</th>\n",
       "      <td>First Case of Zika in Miami Beach</td>\n",
       "      <td>Miami Beach</td>\n",
       "      <td>United States</td>\n",
       "    </tr>\n",
       "    <tr>\n",
       "      <th>1</th>\n",
       "      <td>Mystery Virus Spreads in Recife, Brazil</td>\n",
       "      <td>Recife</td>\n",
       "      <td>Brazil</td>\n",
       "    </tr>\n",
       "    <tr>\n",
       "      <th>2</th>\n",
       "      <td>Zika Concerns are Spreading in Houston</td>\n",
       "      <td>Houston</td>\n",
       "      <td>United States</td>\n",
       "    </tr>\n",
       "    <tr>\n",
       "      <th>3</th>\n",
       "      <td>The CDC in Atlanta is Growing Worried</td>\n",
       "      <td>Atlanta</td>\n",
       "      <td>United States</td>\n",
       "    </tr>\n",
       "    <tr>\n",
       "      <th>4</th>\n",
       "      <td>Zika Infested Monkeys in Sao Paulo</td>\n",
       "      <td>Sao Paulo</td>\n",
       "      <td>Brazil</td>\n",
       "    </tr>\n",
       "    <tr>\n",
       "      <th>...</th>\n",
       "      <td>...</td>\n",
       "      <td>...</td>\n",
       "      <td>...</td>\n",
       "    </tr>\n",
       "    <tr>\n",
       "      <th>645</th>\n",
       "      <td>Stony Brook University experts discuss Zika virus</td>\n",
       "      <td>New York City</td>\n",
       "      <td>United States</td>\n",
       "    </tr>\n",
       "    <tr>\n",
       "      <th>646</th>\n",
       "      <td>Kedougou tests new cure for Hepatitis C</td>\n",
       "      <td>Kedougou</td>\n",
       "      <td>Senegal</td>\n",
       "    </tr>\n",
       "    <tr>\n",
       "      <th>647</th>\n",
       "      <td>Measles Hits Davos</td>\n",
       "      <td>Davos</td>\n",
       "      <td>Switzerland</td>\n",
       "    </tr>\n",
       "    <tr>\n",
       "      <th>648</th>\n",
       "      <td>Chikungunya has not Left Pismo Beach</td>\n",
       "      <td>Pismo Beach</td>\n",
       "      <td>United States</td>\n",
       "    </tr>\n",
       "    <tr>\n",
       "      <th>649</th>\n",
       "      <td>Zika spreads to La Joya</td>\n",
       "      <td>La Joya</td>\n",
       "      <td>United States</td>\n",
       "    </tr>\n",
       "  </tbody>\n",
       "</table>\n",
       "<p>650 rows × 3 columns</p>\n",
       "</div>"
      ],
      "text/plain": [
       "                                              Headline           City  \\\n",
       "0                    First Case of Zika in Miami Beach    Miami Beach   \n",
       "1              Mystery Virus Spreads in Recife, Brazil         Recife   \n",
       "2               Zika Concerns are Spreading in Houston        Houston   \n",
       "3                The CDC in Atlanta is Growing Worried        Atlanta   \n",
       "4                   Zika Infested Monkeys in Sao Paulo      Sao Paulo   \n",
       "..                                                 ...            ...   \n",
       "645  Stony Brook University experts discuss Zika virus  New York City   \n",
       "646            Kedougou tests new cure for Hepatitis C       Kedougou   \n",
       "647                                 Measles Hits Davos          Davos   \n",
       "648               Chikungunya has not Left Pismo Beach    Pismo Beach   \n",
       "649                            Zika spreads to La Joya        La Joya   \n",
       "\n",
       "           Country  \n",
       "0    United States  \n",
       "1           Brazil  \n",
       "2    United States  \n",
       "3    United States  \n",
       "4           Brazil  \n",
       "..             ...  \n",
       "645  United States  \n",
       "646        Senegal  \n",
       "647    Switzerland  \n",
       "648  United States  \n",
       "649  United States  \n",
       "\n",
       "[650 rows x 3 columns]"
      ]
     },
     "execution_count": 72,
     "metadata": {},
     "output_type": "execute_result"
    }
   ],
   "source": [
    "final_df"
   ]
  },
  {
   "cell_type": "code",
   "execution_count": null,
   "metadata": {},
   "outputs": [],
   "source": []
  }
 ],
 "metadata": {
  "hide_input": false,
  "kernelspec": {
   "display_name": "Python 3",
   "language": "python",
   "name": "python3"
  },
  "language_info": {
   "codemirror_mode": {
    "name": "ipython",
    "version": 3
   },
   "file_extension": ".py",
   "mimetype": "text/x-python",
   "name": "python",
   "nbconvert_exporter": "python",
   "pygments_lexer": "ipython3",
   "version": "3.7.10"
  }
 },
 "nbformat": 4,
 "nbformat_minor": 4
}
