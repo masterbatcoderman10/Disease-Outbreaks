{
 "cells": [
  {
   "cell_type": "code",
   "execution_count": 22,
   "id": "af38e25b",
   "metadata": {},
   "outputs": [],
   "source": [
    "import pandas as pd\n",
    "import re\n",
    "from geonamescache import GeonamesCache\n",
    "from unidecode import unidecode\n",
    "import numpy as np"
   ]
  },
  {
   "cell_type": "code",
   "execution_count": 4,
   "id": "bc571f27",
   "metadata": {},
   "outputs": [],
   "source": [
    "df = pd.read_csv(\"outbreak_cities.csv\", index_col=0)"
   ]
  },
  {
   "cell_type": "code",
   "execution_count": 5,
   "id": "b8bd2186",
   "metadata": {},
   "outputs": [
    {
     "data": {
      "text/html": [
       "<div>\n",
       "<style scoped>\n",
       "    .dataframe tbody tr th:only-of-type {\n",
       "        vertical-align: middle;\n",
       "    }\n",
       "\n",
       "    .dataframe tbody tr th {\n",
       "        vertical-align: top;\n",
       "    }\n",
       "\n",
       "    .dataframe thead th {\n",
       "        text-align: right;\n",
       "    }\n",
       "</style>\n",
       "<table border=\"1\" class=\"dataframe\">\n",
       "  <thead>\n",
       "    <tr style=\"text-align: right;\">\n",
       "      <th></th>\n",
       "      <th>Headline</th>\n",
       "      <th>City</th>\n",
       "      <th>Country</th>\n",
       "    </tr>\n",
       "  </thead>\n",
       "  <tbody>\n",
       "    <tr>\n",
       "      <th>0</th>\n",
       "      <td>First Case of Zika in Miami Beach</td>\n",
       "      <td>Miami Beach</td>\n",
       "      <td>United States</td>\n",
       "    </tr>\n",
       "    <tr>\n",
       "      <th>1</th>\n",
       "      <td>Mystery Virus Spreads in Recife, Brazil</td>\n",
       "      <td>Recife</td>\n",
       "      <td>Brazil</td>\n",
       "    </tr>\n",
       "    <tr>\n",
       "      <th>2</th>\n",
       "      <td>Zika Concerns are Spreading in Houston</td>\n",
       "      <td>Houston</td>\n",
       "      <td>United States</td>\n",
       "    </tr>\n",
       "    <tr>\n",
       "      <th>3</th>\n",
       "      <td>The CDC in Atlanta is Growing Worried</td>\n",
       "      <td>Atlanta</td>\n",
       "      <td>United States</td>\n",
       "    </tr>\n",
       "    <tr>\n",
       "      <th>4</th>\n",
       "      <td>Zika Infested Monkeys in Sao Paulo</td>\n",
       "      <td>Sao Paulo</td>\n",
       "      <td>Brazil</td>\n",
       "    </tr>\n",
       "  </tbody>\n",
       "</table>\n",
       "</div>"
      ],
      "text/plain": [
       "                                  Headline         City        Country\n",
       "0        First Case of Zika in Miami Beach  Miami Beach  United States\n",
       "1  Mystery Virus Spreads in Recife, Brazil       Recife         Brazil\n",
       "2   Zika Concerns are Spreading in Houston      Houston  United States\n",
       "3    The CDC in Atlanta is Growing Worried      Atlanta  United States\n",
       "4       Zika Infested Monkeys in Sao Paulo    Sao Paulo         Brazil"
      ]
     },
     "execution_count": 5,
     "metadata": {},
     "output_type": "execute_result"
    }
   ],
   "source": [
    "df.head()"
   ]
  },
  {
   "cell_type": "code",
   "execution_count": 6,
   "id": "e087ada2",
   "metadata": {},
   "outputs": [],
   "source": [
    "cities = list(df[\"City\"])"
   ]
  },
  {
   "cell_type": "markdown",
   "id": "5c9eeed5",
   "metadata": {},
   "source": [
    "## Getting Longitudes and Latitudes\n",
    "\n",
    "The process for extracting longitudes and latitudes is as follows, the names of the cities will be used in accordance with the functions used to extract the country name, however, this time those functions will instead return the longitude and latitude."
   ]
  },
  {
   "cell_type": "code",
   "execution_count": 23,
   "id": "8a3c9375",
   "metadata": {},
   "outputs": [],
   "source": [
    "all_countries = gc.get_countries()\n",
    "accented_names = [city['name'] for city in gc.get_cities().values()\n",
    "                  if city['name'] != unidecode(city['name'])]"
   ]
  },
  {
   "cell_type": "code",
   "execution_count": 24,
   "id": "340a5e6f",
   "metadata": {},
   "outputs": [],
   "source": [
    "def singular_country(possible_cities, countries):\n",
    "    selected_city_dict = possible_cities[0]\n",
    "    iterator = iter(selected_city_dict.keys())\n",
    "    inner_dict = selected_city_dict[next(iterator)]\n",
    "    lat = inner_dict[\"latitude\"]\n",
    "    long = inner_dict[\"longitude\"]\n",
    "    return (lat, long)"
   ]
  },
  {
   "cell_type": "code",
   "execution_count": 29,
   "id": "d46307f6",
   "metadata": {},
   "outputs": [],
   "source": [
    "def lat_long(city_name, countries, accent_list):\n",
    "    possible_cities = gc.get_cities_by_name(city_name)\n",
    "    if len(possible_cities) == 1:\n",
    "        return singular_country(possible_cities, countries)\n",
    "    elif len(possible_cities) > 1:\n",
    "        return multiple_countries(possible_cities, countries)\n",
    "    else:\n",
    "        return accented_city(city_name, countries, accent_list)\n",
    "        \n",
    "        "
   ]
  },
  {
   "cell_type": "code",
   "execution_count": 30,
   "id": "85a050ca",
   "metadata": {},
   "outputs": [],
   "source": [
    "def multiple_countries(city_list, countries):\n",
    "    best_sf = max(city_list,\n",
    "              key=lambda x: list(x.values())[0]['population'])\n",
    "    iterator = iter(best_sf.keys())\n",
    "    inner_dict = best_sf[next(iterator)]\n",
    "    lat = inner_dict[\"latitude\"]\n",
    "    long = inner_dict[\"longitude\"]\n",
    "    return (lat, long)"
   ]
  },
  {
   "cell_type": "code",
   "execution_count": 31,
   "id": "3fae12da",
   "metadata": {},
   "outputs": [],
   "source": [
    "def accented_city(city_name, countries, accented_cities):\n",
    "    for city in accented_cities:\n",
    "        if unidecode(city) == city_name:\n",
    "            \n",
    "            return lat_long(city, countries, accented_cities)\n",
    "\n",
    "        else:\n",
    "            continue"
   ]
  },
  {
   "cell_type": "code",
   "execution_count": 11,
   "id": "098acedd",
   "metadata": {},
   "outputs": [],
   "source": [
    "gc = GeonamesCache()"
   ]
  },
  {
   "cell_type": "code",
   "execution_count": 12,
   "id": "5b0741f1",
   "metadata": {},
   "outputs": [],
   "source": [
    "dubai = gc.get_cities_by_name(\"Dubai\")"
   ]
  },
  {
   "cell_type": "code",
   "execution_count": 32,
   "id": "4ad21162",
   "metadata": {},
   "outputs": [
    {
     "data": {
      "text/plain": [
       "(25.07725, 55.30927)"
      ]
     },
     "execution_count": 32,
     "metadata": {},
     "output_type": "execute_result"
    }
   ],
   "source": [
    "lat_long(\"Dubai\", all_countries, accented_names)"
   ]
  },
  {
   "cell_type": "code",
   "execution_count": 34,
   "id": "ccd97983",
   "metadata": {},
   "outputs": [],
   "source": [
    "lats_and_longs = [lat_long(city, all_countries, accented_names) for city in cities]"
   ]
  },
  {
   "cell_type": "code",
   "execution_count": 35,
   "id": "099f533a",
   "metadata": {},
   "outputs": [
    {
     "data": {
      "text/plain": [
       "650"
      ]
     },
     "execution_count": 35,
     "metadata": {},
     "output_type": "execute_result"
    }
   ],
   "source": [
    "len(lats_and_longs)"
   ]
  },
  {
   "cell_type": "code",
   "execution_count": 36,
   "id": "05b3773d",
   "metadata": {},
   "outputs": [],
   "source": [
    "list_of_nulls = len([item for item in lats_and_longs if item is None])"
   ]
  },
  {
   "cell_type": "code",
   "execution_count": 37,
   "id": "20a7fb24",
   "metadata": {},
   "outputs": [
    {
     "data": {
      "text/plain": [
       "51"
      ]
     },
     "execution_count": 37,
     "metadata": {},
     "output_type": "execute_result"
    }
   ],
   "source": [
    "list_of_nulls"
   ]
  },
  {
   "cell_type": "code",
   "execution_count": 40,
   "id": "3315c001",
   "metadata": {},
   "outputs": [],
   "source": [
    "lats = []\n",
    "longs = []\n",
    "\n",
    "for tup in lats_and_longs:\n",
    "    if tup is None:\n",
    "        lats.append(None)\n",
    "        longs.append(None)\n",
    "        continue\n",
    "    lats.append(tup[0])\n",
    "    longs.append(tup[1])"
   ]
  },
  {
   "cell_type": "code",
   "execution_count": 41,
   "id": "c730dc7d",
   "metadata": {},
   "outputs": [
    {
     "data": {
      "text/plain": [
       "650"
      ]
     },
     "execution_count": 41,
     "metadata": {},
     "output_type": "execute_result"
    }
   ],
   "source": [
    "len(lats)"
   ]
  },
  {
   "cell_type": "code",
   "execution_count": 42,
   "id": "cec90e53",
   "metadata": {},
   "outputs": [],
   "source": [
    "df[\"Latitude\"] = lats\n",
    "df[\"Longitude\"] = longs"
   ]
  },
  {
   "cell_type": "code",
   "execution_count": 43,
   "id": "37b7014f",
   "metadata": {},
   "outputs": [],
   "source": [
    "df.to_csv(\"outbreaks_lat_longs.csv\")"
   ]
  },
  {
   "cell_type": "code",
   "execution_count": null,
   "id": "cf953a71",
   "metadata": {},
   "outputs": [],
   "source": []
  }
 ],
 "metadata": {
  "hide_input": false,
  "kernelspec": {
   "display_name": "Python 3 (ipykernel)",
   "language": "python",
   "name": "python3"
  },
  "language_info": {
   "codemirror_mode": {
    "name": "ipython",
    "version": 3
   },
   "file_extension": ".py",
   "mimetype": "text/x-python",
   "name": "python",
   "nbconvert_exporter": "python",
   "pygments_lexer": "ipython3",
   "version": "3.7.11"
  }
 },
 "nbformat": 4,
 "nbformat_minor": 5
}
